{
 "cells": [
  {
   "cell_type": "code",
   "execution_count": 1,
   "metadata": {},
   "outputs": [],
   "source": [
    "# Imports\n",
    "\n",
    "import numpy as np\n",
    "import logging; logger = logging.getLogger(__name__)\n",
    "\n",
    "\n",
    "from opendrift.models.oceandrift import OceanDrift, Lagrangian3DArray\n",
    "from opendrift.models.leeway import Leeway # For Search and Rescure. May not be relevant\n",
    "from opendrift.models.plastdrift import PlastDrift\n",
    "from opendrift.models.sedimentdrift import SedimentDrift # Looks most promising\n",
    "from opendrift.models.radionuclides import Radionuclide\n",
    "\n",
    "from opendrift.readers import reader_netCDF_CF_generic\n",
    "\n",
    "from pprint import pprint\n",
    "from opendrift.readers import reader_global_landmask\n",
    "\n",
    "\n",
    "from datetime import datetime\n",
    "\n",
    "from opendrift.models.basemodel import OpenDriftSimulation\n",
    "from opendrift.elements import LagrangianArray\n"
   ]
  },
  {
   "attachments": {},
   "cell_type": "markdown",
   "metadata": {},
   "source": [
    "### Define the model\n",
    "\n",
    "Here, we define the class *GhostNetElement*, which is supposed to represent a single ghost net in the ocean. Then, the class *GhostNetDrift* handles the simulation. <br>\n",
    "\n",
    "As of now, I simply copied the code from `opendrift.models.sedimentdrift.SedimentDrift`. We should also check out `opendrift.models.radionnuclides.Radionnuclide` as it also incorporates diameter, density, etc. Then, the RadionNuclideDrift shows how these properties can be handled in the simulation. <br>\n",
    "\n",
    "The most important parts here are the `variables` field in GhostNetElement, the `required_variables` field in GhostNetDrift and the `update()` function in GhostNetDrift."
   ]
  },
  {
   "cell_type": "code",
   "execution_count": 2,
   "metadata": {},
   "outputs": [],
   "source": [
    "class GhostNetElement(Lagrangian3DArray):\n",
    "    variables = Lagrangian3DArray.add_variables([\n",
    "        ('settled', {'dtype': np.uint8,  # 0 is active, 1 is settled\n",
    "                     'units': '1',\n",
    "                     'default': 0}),\n",
    "        ('terminal_velocity', {'dtype': np.float32,\n",
    "                               'units': 'm/s',\n",
    "                               'default': -0.001})  # 1 mm/s negative buoyancy\n",
    "        ])\n",
    "\n",
    "# Differences between RadionNuclide and Sediment:\n",
    "# diameter in radionuclide: BUT only needed to update terminal velocity (don't include)\n",
    "# density: -------||---------\n",
    "\n",
    "\n",
    "class GhostNetDrift(OceanDrift):\n",
    "    \"\"\"Model for sediment drift, under development\n",
    "    \"\"\"\n",
    "\n",
    "    ElementType = GhostNetElement\n",
    "\n",
    "    required_variables = {\n",
    "        'x_sea_water_velocity': {'fallback': 0},\n",
    "        'y_sea_water_velocity': {'fallback': 0},\n",
    "        'upward_sea_water_velocity': {'fallback': 0},\n",
    "        'x_wind': {'fallback': 0},\n",
    "        'y_wind': {'fallback': 0},\n",
    "        'sea_surface_wave_stokes_drift_x_velocity': {'fallback': 0},\n",
    "        'sea_surface_wave_stokes_drift_y_velocity': {'fallback': 0},\n",
    "        'sea_surface_wave_period_at_variance_spectral_density_maximum': {'fallback': 0},\n",
    "        'sea_surface_wave_mean_period_from_variance_spectral_density_second_frequency_moment': {'fallback': 0},\n",
    "        'land_binary_mask': {'fallback': None},\n",
    "        'ocean_vertical_diffusivity': {'fallback': 0.02},\n",
    "        'ocean_mixed_layer_thickness': {'fallback': 50},\n",
    "        'sea_floor_depth_below_sea_level': {'fallback': 0},\n",
    "        }\n",
    "\n",
    "    def __init__(self, *args, **kwargs):\n",
    "        \"\"\" Constructor of SedimentDrift module\n",
    "        \"\"\"\n",
    "\n",
    "        super(GhostNetDrift, self).__init__(*args, **kwargs)\n",
    "\n",
    "        # By default, sediments do not strand towards coastline\n",
    "        # TODO: A more sophisticated stranding algorithm is needed\n",
    "        self._set_config_default('general:coastline_action', 'previous')\n",
    "\n",
    "        # Vertical mixing is enabled as default\n",
    "        self._set_config_default('drift:vertical_mixing', True)\n",
    "\n",
    "    def update(self):\n",
    "        \"\"\"Update positions and properties of sediment particles.\n",
    "        \"\"\"\n",
    "\n",
    "        # Advecting here all elements, but want to soon add\n",
    "        # possibility of not moving settled elements, until\n",
    "        # they are resuspended. May then need to send a boolean\n",
    "        # array to advection methods below\n",
    "        self.advect_ocean_current()\n",
    "\n",
    "        self.vertical_advection()\n",
    "\n",
    "        self.advect_wind()  # Wind shear in upper 10cm of ocean\n",
    "\n",
    "        self.stokes_drift()\n",
    "\n",
    "        #self.vertical_mixing()  # Including buoyancy and settling\n",
    "\n",
    "        self.resuspension()\n",
    "\n",
    "    def bottom_interaction(self, seafloor_depth):\n",
    "        \"\"\"Sub method of vertical_mixing, determines settling\"\"\"\n",
    "        # Elements at or below seafloor are settled, by setting\n",
    "        # self.elements.moving to 0.\n",
    "        # These elements will not move until eventual later resuspension.\n",
    "        settling = np.logical_and(self.elements.z <= seafloor_depth, self.elements.moving==1)\n",
    "        if np.sum(settling) > 0:\n",
    "            logger.debug('Settling %s elements at seafloor' % np.sum(settling))\n",
    "            self.elements.moving[settling] = 0\n",
    "\n",
    "    def resuspension(self):\n",
    "        \"\"\"Resuspending elements if current speed > .5 m/s\"\"\"\n",
    "        resuspending = np.logical_and(self.current_speed()>.5, self.elements.moving==0)\n",
    "        if np.sum(resuspending) > 0:\n",
    "            # Allow moving again\n",
    "            self.elements.moving[resuspending] = 1\n",
    "            # Suspend 1 cm above seafloor\n",
    "            self.elements.z[resuspending] = self.elements.z[resuspending] + .01\n"
   ]
  },
  {
   "cell_type": "code",
   "execution_count": 3,
   "metadata": {},
   "outputs": [
    {
     "name": "stderr",
     "output_type": "stream",
     "text": [
      "14:53:02 DEBUG   opendrift.models.basemodel:618: Adding 17 config items from basemodel\n",
      "14:53:02 DEBUG   opendrift.models.basemodel:618: Adding 6 config items from basemodel\n",
      "14:53:02 DEBUG   opendrift.models.basemodel:618: Adding 26 config items from basemodel\n",
      "14:53:02 INFO    opendrift.models.basemodel:532: OpenDriftSimulation initialised (version 1.10.6 / v1.10.6-5-ged278b2)\n",
      "14:53:02 DEBUG   opendrift.models.basemodel:618: Adding 14 config items from oceandrift\n",
      "14:53:02 DEBUG   opendrift.models.basemodel:630:   Overwriting config item seed:z\n"
     ]
    }
   ],
   "source": [
    "o = GhostNetDrift(loglevel=0)"
   ]
  },
  {
   "cell_type": "code",
   "execution_count": 4,
   "metadata": {},
   "outputs": [
    {
     "name": "stdout",
     "output_type": "stream",
     "text": [
      "{'land_binary_mask': {'fallback': None},\n",
      " 'ocean_mixed_layer_thickness': {'fallback': 50},\n",
      " 'ocean_vertical_diffusivity': {'fallback': 0.02},\n",
      " 'sea_floor_depth_below_sea_level': {'fallback': 0},\n",
      " 'sea_surface_wave_mean_period_from_variance_spectral_density_second_frequency_moment': {'fallback': 0},\n",
      " 'sea_surface_wave_period_at_variance_spectral_density_maximum': {'fallback': 0},\n",
      " 'sea_surface_wave_stokes_drift_x_velocity': {'fallback': 0},\n",
      " 'sea_surface_wave_stokes_drift_y_velocity': {'fallback': 0},\n",
      " 'upward_sea_water_velocity': {'fallback': 0},\n",
      " 'x_sea_water_velocity': {'fallback': 0},\n",
      " 'x_wind': {'fallback': 0},\n",
      " 'y_sea_water_velocity': {'fallback': 0},\n",
      " 'y_wind': {'fallback': 0}}\n"
     ]
    }
   ],
   "source": [
    "pprint(o.required_variables)"
   ]
  },
  {
   "attachments": {},
   "cell_type": "markdown",
   "metadata": {},
   "source": [
    "### Add Readers. There are two readers of interest: \n",
    "- Generic reader that retrieves ocean data for simulating currents\n",
    "- Landmask reader for land data (where ocean meets land). This file is simply 3D tensor (matrix) containing 1 where there is land and 0 where there is ocean <br>"
   ]
  },
  {
   "attachments": {},
   "cell_type": "markdown",
   "metadata": {},
   "source": [
    "Each reader needs a filename, that is either a local file or URL. Here I use the URL provided [here](https://opendrift.github.io/tutorial.html#import-a-specific-model-for-the-relevant-application) <br>\n",
    "\n",
    "**They are accessed in the following manner:**"
   ]
  },
  {
   "cell_type": "code",
   "execution_count": 5,
   "metadata": {},
   "outputs": [
    {
     "name": "stderr",
     "output_type": "stream",
     "text": [
      "14:53:04 INFO    opendrift.readers.reader_netCDF_CF_generic:138: Opening dataset: https://thredds.met.no/thredds/dodsC/sea/norkyst800m/1h/aggregate_be\n",
      "14:53:27 DEBUG   opendrift.readers.reader_netCDF_CF_generic:155: Finding coordinate variables.\n",
      "14:53:27 DEBUG   opendrift.readers.reader_netCDF_CF_generic:355: Skipped variables without standard_name: ['angle', 'tke', 'ubar', 'vbar']\n",
      "14:53:27 DEBUG   opendrift.readers.basereader.variables:546: Setting buffer size 25 for reader https://thredds.met.no/thredds/dodsC/sea/norkyst800m/1h/aggregate_be, assuming a maximum average speed of 5 m/s and time span of 1:00:00\n",
      "14:53:27 DEBUG   opendrift.readers.basereader:168: Variable mapping: ['sea_floor_depth_below_sea_level'] -> ['land_binary_mask'] is not activated\n",
      "14:53:27 DEBUG   opendrift.readers.basereader:168: Variable mapping: ['sea_floor_depth_below_sea_level'] -> ['land_binary_mask'] is not activated\n"
     ]
    }
   ],
   "source": [
    "# Generic reader\n",
    "reader_norkyst = reader_netCDF_CF_generic.Reader(\n",
    "    filename='https://thredds.met.no/thredds/dodsC/sea/norkyst800m/1h/aggregate_be'\n",
    ")\n",
    "\n",
    "# Landmask reader. \n",
    "reader_landmask = reader_global_landmask.Reader()"
   ]
  },
  {
   "cell_type": "code",
   "execution_count": 6,
   "metadata": {},
   "outputs": [
    {
     "name": "stderr",
     "output_type": "stream",
     "text": [
      "14:53:33 DEBUG   opendrift.models.basemodel:945: Added reader global_landmask\n",
      "14:53:33 DEBUG   opendrift.readers.basereader.variables:546: Setting buffer size 7 for reader https://thredds.met.no/thredds/dodsC/sea/norkyst800m/1h/aggregate_be, assuming a maximum average speed of 1 m/s and time span of 1:00:00\n",
      "14:53:33 DEBUG   opendrift.models.basemodel:945: Added reader https://thredds.met.no/thredds/dodsC/sea/norkyst800m/1h/aggregate_be\n"
     ]
    }
   ],
   "source": [
    "o.add_reader([reader_landmask, reader_norkyst])"
   ]
  },
  {
   "attachments": {},
   "cell_type": "markdown",
   "metadata": {},
   "source": [
    "### Seeding elements\n",
    "To seed an element simply means releasing it into the ocean (for simulation). <br>\n",
    "\n",
    "**Important:**\n",
    "- If `lon` and `lat` are given as arrays of two elements, the GhostNet is dropped randomly at the line between them. Here, the radius can incorporate the uncertainty of the line's width. \n",
    "- If `time` is given as an array, then the GhostNet is dropped randomly in the timeinterval. "
   ]
  },
  {
   "cell_type": "code",
   "execution_count": 7,
   "metadata": {},
   "outputs": [],
   "source": [
    "# These are the standard arguments. \n",
    "# number GhostNet is dropped at longitude 4.3, lattitude 60 within a radius of 1000 meters. \n",
    "o.seed_elements(lon=4.5, lat=60, radius=1000, number=10, time=reader_norkyst.start_time)"
   ]
  },
  {
   "cell_type": "code",
   "execution_count": 8,
   "metadata": {},
   "outputs": [
    {
     "data": {
      "text/plain": [
       "ID: [ 1  2  3  4  5  6  7  8  9 10]\n",
       "status: [0. 0. 0. 0. 0. 0. 0. 0. 0. 0.]\n",
       "moving: 1\n",
       "age_seconds: 0.0\n",
       "origin_marker: 0\n",
       "lon: [4.5316153 4.507174  4.517544  4.5401607 4.533473  4.4824843 4.5170336\n",
       " 4.4972878 4.49815   4.5073566]\n",
       "lat: [60.00129  60.013054 60.00683  60.001087 60.00398  60.002995 60.01341\n",
       " 59.998158 60.00281  59.992332]\n",
       "z: 0.0\n",
       "wind_drift_factor: 0.02\n",
       "current_drift_factor: 1.0\n",
       "terminal_velocity: -0.001\n",
       "settled: 0"
      ]
     },
     "execution_count": 8,
     "metadata": {},
     "output_type": "execute_result"
    }
   ],
   "source": [
    "# Inspect properties of the GhostNet dropped\n",
    "o.elements_scheduleds"
   ]
  },
  {
   "attachments": {},
   "cell_type": "markdown",
   "metadata": {},
   "source": [
    "### Configurating the simulation\n",
    "\n",
    "We can also provide custom configurations to the simulation, that may suit GhostNets better."
   ]
  },
  {
   "cell_type": "code",
   "execution_count": 9,
   "metadata": {},
   "outputs": [
    {
     "name": "stdout",
     "output_type": "stream",
     "text": [
      "general:use_auto_landmask           [True] bool   A built-in GSHHG glo...\n",
      "general:coastline_action            [previous] enum  ['none', 'stranding', 'previous'] None means that obje...\n",
      "general:time_step_minutes           [60] float min: 0.01, max: 1440 [minutes] Calculation time ste...\n",
      "general:time_step_output_minutes    [None] float min: 1, max: 1440 [minutes] Output time step, i....\n",
      "seed:ocean_only                     [True] bool   If True, elements se...\n",
      "seed:number                         [1] int   min: 1, max: 100000000 [1] The number of elemen...\n",
      "drift:max_age_seconds               [None] float min: 0, max: inf [seconds] Elements will be dea...\n",
      "drift:advection_scheme              [euler] enum  ['euler', 'runge-kutta', 'runge-kutta4'] Numerical advection ...\n",
      "drift:current_uncertainty           [0] float min: 0, max: 5 [m/s] Add gaussian perturb...\n",
      "drift:current_uncertainty_uniform   [0] float min: 0, max: 5 [m/s] Add gaussian perturb...\n",
      "drift:horizontal_diffusivity        [0] float min: 0, max: 100000 [m2/s] Add horizontal diffu...\n",
      "drift:wind_uncertainty              [0] float min: 0, max: 5 [m/s] Add gaussian perturb...\n",
      "drift:relative_wind                 [False] bool   If True, wind drift ...\n",
      "drift:deactivate_north_of           [None] float min: -90, max: 90 [degrees] Elements are deactiv...\n",
      "drift:deactivate_south_of           [None] float min: -90, max: 90 [degrees] Elements are deactiv...\n",
      "drift:deactivate_east_of            [None] float min: -360, max: 360 [degrees] Elements are deactiv...\n",
      "drift:deactivate_west_of            [None] float min: -360, max: 360 [degrees] Elements are deactiv...\n",
      "seed:origin_marker                  [0] float min: None, max: None [None] An integer kept cons...\n",
      "seed:z                              [0] float min: -10000, max: 0 [m] Depth below sea leve...\n",
      "seed:wind_drift_factor              [0.02] float min: None, max: None [1] Elements at surface ...\n",
      "seed:current_drift_factor           [1] float min: None, max: None [1] Elements are moved w...\n",
      "seed:terminal_velocity              [-0.001] float min: None, max: None [m/s] Seeding value of ter...\n",
      "seed:settled                        [0] float min: None, max: None [1] Seeding value of set...\n",
      "environment:constant:x_sea_water_velocity [None] float min: -15, max: 15 [m/s] Component of ocean c...\n",
      "environment:fallback:x_sea_water_velocity [0] float min: -15, max: 15 [m/s] Component of ocean c...\n",
      "environment:constant:y_sea_water_velocity [None] float min: -15, max: 15 [m/s] Component of ocean c...\n",
      "environment:fallback:y_sea_water_velocity [0] float min: -15, max: 15 [m/s] Component of ocean c...\n",
      "environment:constant:upward_sea_water_velocity [None] float min: None, max: None [None] Use constant value f...\n",
      "environment:fallback:upward_sea_water_velocity [0] float min: None, max: None [None] Fallback value for u...\n",
      "environment:constant:x_wind         [None] float min: -50, max: 50 [m/s] Component of wind al...\n",
      "environment:fallback:x_wind         [0] float min: -50, max: 50 [m/s] Component of wind al...\n",
      "environment:constant:y_wind         [None] float min: -50, max: 50 [m/s] Component of wind al...\n",
      "environment:fallback:y_wind         [0] float min: -50, max: 50 [m/s] Component of wind al...\n",
      "environment:constant:sea_surface_wave_stokes_drift_x_velocity [None] float min: None, max: None [None] Use constant value f...\n",
      "environment:fallback:sea_surface_wave_stokes_drift_x_velocity [0] float min: None, max: None [None] Fallback value for s...\n",
      "environment:constant:sea_surface_wave_stokes_drift_y_velocity [None] float min: None, max: None [None] Use constant value f...\n",
      "environment:fallback:sea_surface_wave_stokes_drift_y_velocity [0] float min: None, max: None [None] Fallback value for s...\n",
      "environment:constant:sea_surface_wave_period_at_variance_spectral_density_maximum [None] float min: None, max: None [None] Use constant value f...\n",
      "environment:fallback:sea_surface_wave_period_at_variance_spectral_density_maximum [0] float min: None, max: None [None] Fallback value for s...\n",
      "environment:constant:sea_surface_wave_mean_period_from_variance_spectral_density_second_frequency_moment [None] float min: None, max: None [None] Use constant value f...\n",
      "environment:fallback:sea_surface_wave_mean_period_from_variance_spectral_density_second_frequency_moment [0] float min: None, max: None [None] Fallback value for s...\n",
      "environment:constant:land_binary_mask [None] float min: 0, max: 1 [None] 1 is land, 0 is sea...\n",
      "environment:fallback:land_binary_mask [None] float min: 0, max: 1 [None] 1 is land, 0 is sea...\n",
      "environment:constant:ocean_vertical_diffusivity [None] float min: 0, max: 1 [None] Use constant value f...\n",
      "environment:fallback:ocean_vertical_diffusivity [0.02] float min: 0, max: 1 [None] Fallback value for o...\n",
      "environment:constant:ocean_mixed_layer_thickness [None] float min: None, max: None [None] Use constant value f...\n",
      "environment:fallback:ocean_mixed_layer_thickness [50] float min: None, max: None [None] Fallback value for o...\n",
      "environment:constant:sea_floor_depth_below_sea_level [None] float min: 0, max: 12000 [None] Depth of seafloor...\n",
      "environment:fallback:sea_floor_depth_below_sea_level [0] float min: 0, max: 12000 [None] Depth of seafloor...\n",
      "drift:vertical_advection            [True] bool   Advect elements with...\n",
      "drift:vertical_mixing               [True] bool   Activate vertical mi...\n",
      "vertical_mixing:timestep            [60] float min: 0.1, max: 3600 [seconds] Time step used for i...\n",
      "vertical_mixing:diffusivitymodel    [environment] enum  ['environment', 'stepfunction', 'windspeed_Sundby1983', 'windspeed_Large1994', 'gls_tke', 'constant'] Algorithm/source use...\n",
      "vertical_mixing:background_diffusivity [1.2e-05] float min: 0, max: 1 [m2s-1] Background diffusivi...\n",
      "vertical_mixing:TSprofiles          [False] bool   Update T and S profi...\n",
      "drift:wind_drift_depth              [0.1] float min: 0, max: 10 [meters] The direct wind drif...\n",
      "drift:stokes_drift                  [True] bool   Advection elements w...\n",
      "drift:use_tabularised_stokes_drift  [False] bool   If True, Stokes drif...\n",
      "drift:tabularised_stokes_drift_fetch [25000] enum  ['5000', '25000', '50000'] The fetch length whe...\n",
      "general:seafloor_action             [lift_to_seafloor] enum  ['none', 'lift_to_seafloor', 'deactivate', 'previous'] \"deactivate\": elemen...\n",
      "drift:truncate_ocean_model_below_m  [None] float min: 0, max: 10000 [m] Ocean model data are...\n",
      "seed:seafloor                       [False] bool   Elements are seeded ...\n"
     ]
    }
   ],
   "source": [
    "# Parameters available to configurate:\n",
    "o.list_configspec()"
   ]
  },
  {
   "attachments": {},
   "cell_type": "markdown",
   "metadata": {},
   "source": [
    "### Running the model"
   ]
  },
  {
   "cell_type": "code",
   "execution_count": 10,
   "metadata": {},
   "outputs": [
    {
     "data": {
      "text/plain": [
       "{'x_sea_water_velocity': {'fallback': 0},\n",
       " 'y_sea_water_velocity': {'fallback': 0},\n",
       " 'upward_sea_water_velocity': {'fallback': 0},\n",
       " 'x_wind': {'fallback': 0},\n",
       " 'y_wind': {'fallback': 0},\n",
       " 'sea_surface_wave_stokes_drift_x_velocity': {'fallback': 0},\n",
       " 'sea_surface_wave_stokes_drift_y_velocity': {'fallback': 0},\n",
       " 'sea_surface_wave_period_at_variance_spectral_density_maximum': {'fallback': 0},\n",
       " 'sea_surface_wave_mean_period_from_variance_spectral_density_second_frequency_moment': {'fallback': 0},\n",
       " 'land_binary_mask': {'fallback': None},\n",
       " 'ocean_vertical_diffusivity': {'fallback': 0.02},\n",
       " 'ocean_mixed_layer_thickness': {'fallback': 50},\n",
       " 'sea_floor_depth_below_sea_level': {'fallback': 0}}"
      ]
     },
     "execution_count": 10,
     "metadata": {},
     "output_type": "execute_result"
    }
   ],
   "source": [
    "# Variables the simulation needs\n",
    "o.required_variables"
   ]
  },
  {
   "cell_type": "code",
   "execution_count": 11,
   "metadata": {},
   "outputs": [
    {
     "name": "stderr",
     "output_type": "stream",
     "text": [
      "14:53:37 DEBUG   opendrift.models.basemodel:2533: \n",
      "------------------------------------------------------\n",
      "Software and hardware:\n",
      "  OpenDrift version 1.10.6\n",
      "  Platform: Darwin, 22.3.0\n",
      "  64.0 GB memory\n",
      "  10 processors (i386)\n",
      "  NumPy version 1.24.2\n",
      "  SciPy version 1.10.1\n",
      "  Matplotlib version 3.7.1\n",
      "  NetCDF4 version 1.6.3\n",
      "  Xarray version 2023.3.0\n",
      "  Python version 3.11.3 | packaged by conda-forge | (main, Apr  6 2023, 09:05:00) [Clang 14.0.6 ]\n",
      "------------------------------------------------------\n",
      "\n",
      "14:53:37 DEBUG   opendrift.models.basemodel:2550: No output file is specified, neglecting export_buffer_length\n",
      "14:53:37 INFO    opendrift.models.basemodel:2579: Fallback values will be used for the following variables which have no readers: \n",
      "14:53:37 INFO    opendrift.models.basemodel:2582: \tsea_surface_wave_stokes_drift_x_velocity: 0.000000\n",
      "14:53:37 INFO    opendrift.models.basemodel:2582: \tsea_surface_wave_stokes_drift_y_velocity: 0.000000\n",
      "14:53:37 INFO    opendrift.models.basemodel:2582: \tsea_surface_wave_period_at_variance_spectral_density_maximum: 0.000000\n",
      "14:53:37 INFO    opendrift.models.basemodel:2582: \tsea_surface_wave_mean_period_from_variance_spectral_density_second_frequency_moment: 0.000000\n",
      "14:53:37 INFO    opendrift.models.basemodel:2582: \tocean_vertical_diffusivity: 0.020000\n",
      "14:53:37 INFO    opendrift.models.basemodel:2582: \tocean_mixed_layer_thickness: 50.000000\n",
      "14:53:37 DEBUG   opendrift.models.basemodel:2706: Preparing readers for simulation coverage ([4.41761242686823, 59.959900026063664, 4.605032569774837, 60.0458410933211]) and time (2017-02-20 00:00:00 to 2017-02-20 01:00:00)\n",
      "14:53:37 DEBUG   opendrift.models.basemodel:2710: \tPreparing global_landmask\n",
      "14:53:37 DEBUG   opendrift.readers.basereader:180: Nothing more to prepare for global_landmask\n",
      "14:53:37 DEBUG   opendrift.models.basemodel:2710: \tPreparing https://thredds.met.no/thredds/dodsC/sea/norkyst800m/1h/aggregate_be\n",
      "14:53:37 DEBUG   opendrift.readers.basereader.structured:119: Clearing cache for reader https://thredds.met.no/thredds/dodsC/sea/norkyst800m/1h/aggregate_be before starting new simulation\n",
      "14:53:37 DEBUG   opendrift.readers.basereader:180: Nothing more to prepare for https://thredds.met.no/thredds/dodsC/sea/norkyst800m/1h/aggregate_be\n",
      "14:53:37 INFO    opendrift.models.basemodel:1689: Using existing reader for land_binary_mask\n",
      "14:53:37 DEBUG   opendrift.models.basemodel:1221: ----------------------------------------\n",
      "14:53:37 DEBUG   opendrift.models.basemodel:1222: Variable group ['land_binary_mask']\n",
      "14:53:37 DEBUG   opendrift.models.basemodel:1223: ----------------------------------------\n",
      "14:53:37 DEBUG   opendrift.models.basemodel:1228: Calling reader global_landmask\n",
      "14:53:37 DEBUG   opendrift.models.basemodel:1229: ----------------------------------------\n",
      "14:53:37 DEBUG   opendrift.models.basemodel:1249: Data needed for 10 elements\n",
      "14:53:37 DEBUG   opendrift.readers.basereader.variables:689: Fetching variables from global_landmask\n",
      "14:53:37 DEBUG   opendrift.readers.basereader.continuous:37: Fetched env-before\n",
      "14:53:37 DEBUG   opendrift.readers.basereader.variables:570: Checking land_binary_mask for invalid values\n",
      "14:53:37 DEBUG   opendrift.readers.basereader.variables:725: Reader projection is latlon - rotation of vectors is not needed.\n",
      "14:53:37 DEBUG   opendrift.models.basemodel:1372: Obtained data for all elements.\n",
      "14:53:37 DEBUG   opendrift.models.basemodel:1385: ---------------------------------------\n",
      "14:53:37 DEBUG   opendrift.models.basemodel:1386: Finished processing all variable groups\n",
      "14:53:37 DEBUG   opendrift.models.basemodel:1510: ------------ SUMMARY -------------\n",
      "14:53:37 DEBUG   opendrift.models.basemodel:1512:     land_binary_mask: 0 (min) 0 (max)\n",
      "14:53:37 DEBUG   opendrift.models.basemodel:1514: ---------------------------------\n",
      "14:53:37 DEBUG   opendrift.models.basemodel:1515: \t\t0 active elements\n",
      "14:53:37 INFO    opendrift.models.basemodel:1701: All points are in ocean\n",
      "14:53:37 DEBUG   opendrift.models.basemodel:1646: to be seeded: 10, already seeded 0\n",
      "14:53:37 DEBUG   opendrift.models.basemodel:1664: Released 10 new elements.\n",
      "14:53:37 DEBUG   opendrift.models.basemodel:1221: ----------------------------------------\n",
      "14:53:37 DEBUG   opendrift.models.basemodel:1222: Variable group ['sea_floor_depth_below_sea_level']\n",
      "14:53:37 DEBUG   opendrift.models.basemodel:1223: ----------------------------------------\n",
      "14:53:37 DEBUG   opendrift.models.basemodel:1228: Calling reader https://thredds.met.no/thredds/dodsC/sea/norkyst800m/1h/aggregate_be\n",
      "14:53:37 DEBUG   opendrift.models.basemodel:1229: ----------------------------------------\n",
      "14:53:37 DEBUG   opendrift.models.basemodel:1249: Data needed for 10 elements\n",
      "14:53:37 DEBUG   opendrift.readers.basereader.variables:689: Fetching variables from https://thredds.met.no/thredds/dodsC/sea/norkyst800m/1h/aggregate_be\n",
      "14:53:37 DEBUG   opendrift.readers.basereader.structured:184: Reader time:\n",
      "\t\t2017-02-20 00:00:00 (before)\n",
      "\t\t2017-02-20 01:00:00 (after)\n",
      "14:53:37 DEBUG   opendrift.readers.basereader.variables:570: Checking sea_floor_depth_below_sea_level for invalid values\n",
      "14:53:37 DEBUG   opendrift.readers.basereader.structured:253: Fetched env-block (size 17x18x2) for time before (2017-02-20 00:00:00)\n",
      "14:53:37 DEBUG   opendrift.readers.basereader.structured:296: Interpolating before (2017-02-20 00:00:00) in space  (linearNDFast)\n",
      "14:53:37 DEBUG   opendrift.readers.interpolation.structured:80: Initialising interpolator.\n",
      "14:53:37 DEBUG   opendrift.readers.basereader.structured:350: No time interpolation needed - right on time.\n",
      "14:53:37 DEBUG   opendrift.models.basemodel:1372: Obtained data for all elements.\n",
      "14:53:37 DEBUG   opendrift.models.basemodel:1385: ---------------------------------------\n",
      "14:53:37 DEBUG   opendrift.models.basemodel:1386: Finished processing all variable groups\n",
      "14:53:37 DEBUG   opendrift.models.basemodel:1510: ------------ SUMMARY -------------\n",
      "14:53:37 DEBUG   opendrift.models.basemodel:1512:     sea_floor_depth_below_sea_level: 298.297 (min) 299.2 (max)\n",
      "14:53:37 DEBUG   opendrift.models.basemodel:1514: ---------------------------------\n",
      "14:53:37 DEBUG   opendrift.models.basemodel:1515: \t\t10 active elements\n",
      "14:53:37 DEBUG   opendrift.models.basemodel:1526: \t\t59.992332 <- latitude  -> 60.01341\n",
      "14:53:37 DEBUG   opendrift.models.basemodel:1531: \t\t4.4824843 <- longitude -> 4.5401607\n",
      "14:53:37 DEBUG   opendrift.models.basemodel:1534: \t\tz = 0.0\n",
      "14:53:37 DEBUG   opendrift.models.basemodel:1537: ---------------------------------\n",
      "14:53:37 DEBUG   opendrift.models.basemodel:824: No elements hit seafloor.\n",
      "14:53:37 DEBUG   opendrift.models.basemodel:2869: ======================================================================\n",
      "14:53:37 INFO    opendrift.models.basemodel:2870: 2017-02-20 00:00:00 - step 1 of 1 - 10 active elements (0 deactivated)\n",
      "14:53:37 DEBUG   opendrift.models.basemodel:2876: 0 elements scheduled.\n",
      "14:53:37 DEBUG   opendrift.models.basemodel:2878: ======================================================================\n",
      "14:53:37 DEBUG   opendrift.models.basemodel:1221: ----------------------------------------\n",
      "14:53:37 DEBUG   opendrift.models.basemodel:1222: Variable group ['land_binary_mask']\n",
      "14:53:37 DEBUG   opendrift.models.basemodel:1223: ----------------------------------------\n",
      "14:53:37 DEBUG   opendrift.models.basemodel:1228: Calling reader global_landmask\n",
      "14:53:37 DEBUG   opendrift.models.basemodel:1229: ----------------------------------------\n",
      "14:53:37 DEBUG   opendrift.models.basemodel:1249: Data needed for 10 elements\n",
      "14:53:37 DEBUG   opendrift.readers.basereader.variables:689: Fetching variables from global_landmask\n",
      "14:53:37 DEBUG   opendrift.readers.basereader.continuous:37: Fetched env-before\n",
      "14:53:37 DEBUG   opendrift.readers.basereader.variables:570: Checking land_binary_mask for invalid values\n",
      "14:53:37 DEBUG   opendrift.readers.basereader.variables:725: Reader projection is latlon - rotation of vectors is not needed.\n",
      "14:53:37 DEBUG   opendrift.models.basemodel:1372: Obtained data for all elements.\n",
      "14:53:37 DEBUG   opendrift.models.basemodel:1221: ----------------------------------------\n",
      "14:53:37 DEBUG   opendrift.models.basemodel:1222: Variable group ['sea_floor_depth_below_sea_level', 'x_wind', 'y_wind', 'x_sea_water_velocity', 'y_sea_water_velocity', 'upward_sea_water_velocity']\n",
      "14:53:37 DEBUG   opendrift.models.basemodel:1223: ----------------------------------------\n",
      "14:53:37 DEBUG   opendrift.models.basemodel:1228: Calling reader https://thredds.met.no/thredds/dodsC/sea/norkyst800m/1h/aggregate_be\n",
      "14:53:37 DEBUG   opendrift.models.basemodel:1229: ----------------------------------------\n",
      "14:53:37 DEBUG   opendrift.models.basemodel:1249: Data needed for 10 elements\n",
      "14:53:37 DEBUG   opendrift.readers.basereader.variables:689: Fetching variables from https://thredds.met.no/thredds/dodsC/sea/norkyst800m/1h/aggregate_be\n",
      "14:53:37 DEBUG   opendrift.readers.basereader.structured:184: Reader time:\n",
      "\t\t2017-02-20 00:00:00 (before)\n",
      "\t\t2017-02-20 01:00:00 (after)\n",
      "14:53:38 DEBUG   opendrift.readers.basereader.variables:570: Checking sea_floor_depth_below_sea_level for invalid values\n",
      "14:53:38 DEBUG   opendrift.readers.basereader.variables:570: Checking x_wind for invalid values\n",
      "14:53:38 DEBUG   opendrift.readers.basereader.variables:570: Checking y_wind for invalid values\n",
      "14:53:38 DEBUG   opendrift.readers.basereader.variables:570: Checking x_sea_water_velocity for invalid values\n",
      "14:53:38 DEBUG   opendrift.readers.basereader.variables:570: Checking y_sea_water_velocity for invalid values\n",
      "14:53:38 DEBUG   opendrift.readers.interpolation.structured:53: Filled NaN-values toward seafloor for :['upward_sea_water_velocity']\n",
      "14:53:38 DEBUG   opendrift.readers.basereader.structured:253: Fetched env-block (size 17x18x2) for time before (2017-02-20 00:00:00)\n",
      "14:53:38 DEBUG   opendrift.readers.basereader.structured:296: Interpolating before (2017-02-20 00:00:00) in space  (linearNDFast)\n",
      "14:53:38 DEBUG   opendrift.readers.interpolation.structured:80: Initialising interpolator.\n",
      "14:53:38 WARNING opendrift:122: Only NaNs input to linearNDFast - returning\n",
      "14:53:38 WARNING opendrift:122: Only NaNs input to linearNDFast - returning\n",
      "14:53:38 WARNING opendrift:122: Only NaNs input to linearNDFast - returning\n",
      "14:53:38 WARNING opendrift:122: Only NaNs input to linearNDFast - returning\n",
      "14:53:38 DEBUG   opendrift.readers.basereader.structured:350: No time interpolation needed - right on time.\n",
      "14:53:38 DEBUG   opendrift.readers.basereader.variables:86: Rotating vectors between -65.51752800905149 and -65.45984978370265 degrees.\n",
      "14:53:38 DEBUG   opendrift.readers.basereader.variables:86: Rotating vectors between -65.51752800905149 and -65.45984978370265 degrees.\n",
      "14:53:38 DEBUG   opendrift.models.basemodel:1375: Data missing for 10 elements.\n",
      "14:53:38 DEBUG   opendrift.models.basemodel:1385: ---------------------------------------\n",
      "14:53:38 DEBUG   opendrift.models.basemodel:1386: Finished processing all variable groups\n",
      "14:53:38 DEBUG   opendrift.models.basemodel:1395:     Using fallback value 0 for upward_sea_water_velocity for 10 elements\n",
      "14:53:38 DEBUG   opendrift.models.basemodel:1395:     Using fallback value 0 for x_wind for 10 elements\n",
      "14:53:38 DEBUG   opendrift.models.basemodel:1395:     Using fallback value 0 for y_wind for 10 elements\n",
      "14:53:38 DEBUG   opendrift.models.basemodel:1510: ------------ SUMMARY -------------\n",
      "14:53:38 DEBUG   opendrift.models.basemodel:1512:     x_sea_water_velocity: -0.0183429 (min) 0.125896 (max)\n",
      "14:53:38 DEBUG   opendrift.models.basemodel:1512:     y_sea_water_velocity: -0.541004 (min) -0.017387 (max)\n",
      "14:53:38 DEBUG   opendrift.models.basemodel:1512:     upward_sea_water_velocity: 0 (min) 0 (max)\n",
      "14:53:38 DEBUG   opendrift.models.basemodel:1512:     x_wind: 0 (min) 0 (max)\n",
      "14:53:38 DEBUG   opendrift.models.basemodel:1512:     y_wind: 0 (min) 0 (max)\n",
      "14:53:38 DEBUG   opendrift.models.basemodel:1512:     sea_surface_wave_stokes_drift_x_velocity: 0 (min) 0 (max)\n",
      "14:53:38 DEBUG   opendrift.models.basemodel:1512:     sea_surface_wave_stokes_drift_y_velocity: 0 (min) 0 (max)\n",
      "14:53:38 DEBUG   opendrift.models.basemodel:1512:     sea_surface_wave_period_at_variance_spectral_density_maximum: 0 (min) 0 (max)\n",
      "14:53:38 DEBUG   opendrift.models.basemodel:1512:     sea_surface_wave_mean_period_from_variance_spectral_density_second_frequency_moment: 0 (min) 0 (max)\n",
      "14:53:38 DEBUG   opendrift.models.basemodel:1512:     land_binary_mask: 0 (min) 0 (max)\n",
      "14:53:38 DEBUG   opendrift.models.basemodel:1512:     ocean_vertical_diffusivity: 0.02 (min) 0.02 (max)\n",
      "14:53:38 DEBUG   opendrift.models.basemodel:1512:     ocean_mixed_layer_thickness: 50 (min) 50 (max)\n",
      "14:53:38 DEBUG   opendrift.models.basemodel:1512:     sea_floor_depth_below_sea_level: 298.297 (min) 299.2 (max)\n",
      "14:53:38 DEBUG   opendrift.models.basemodel:1514: ---------------------------------\n",
      "14:53:38 DEBUG   opendrift.models.basemodel:1515: \t\t10 active elements\n",
      "14:53:38 DEBUG   opendrift.models.basemodel:1526: \t\t59.992332 <- latitude  -> 60.01341\n",
      "14:53:38 DEBUG   opendrift.models.basemodel:1531: \t\t4.4824843 <- longitude -> 4.5401607\n",
      "14:53:38 DEBUG   opendrift.models.basemodel:1534: \t\tz = 0.0\n",
      "14:53:38 DEBUG   opendrift.models.basemodel:1537: ---------------------------------\n",
      "14:53:38 DEBUG   opendrift.models.physics_methods:858: Calculating wave period Tm02 from wind\n",
      "14:53:38 DEBUG   opendrift.models.physics_methods:868:    min: 1.256637, mean: 1.256637, max: 1.256637\n",
      "14:53:38 DEBUG   opendrift.models.physics_methods:808: Calculating wave period from wind, min: 1.256637, mean: 1.256637, max: 1.256637\n",
      "14:53:38 DEBUG   opendrift.models.basemodel:804: No elements hit coastline.\n",
      "14:53:38 DEBUG   opendrift.models.basemodel:824: No elements hit seafloor.\n",
      "14:53:38 DEBUG   opendrift.models.basemodel:2454: No elements to deactivate\n",
      "14:53:38 DEBUG   opendrift.models.basemodel:2918: Calling GhostNetDrift.update()\n",
      "14:53:38 DEBUG   opendrift.models.oceandrift:366: No vertical advection for elements at surface\n",
      "14:53:38 DEBUG   opendrift.models.physics_methods:659: No wind for wind-sheared ocean drift\n",
      "14:53:38 DEBUG   opendrift.models.physics_methods:687: No Stokes drift velocity available\n",
      "14:53:38 DEBUG   opendrift.models.basemodel:2408: Horizontal diffusivity is 0, no random walk.\n",
      "14:53:38 DEBUG   opendrift.models.basemodel:2933: 10 active elements (0 deactivated)\n",
      "14:53:38 DEBUG   opendrift.models.basemodel:2962: Cleaning up\n",
      "14:53:38 DEBUG   opendrift.models.basemodel:1221: ----------------------------------------\n",
      "14:53:38 DEBUG   opendrift.models.basemodel:1222: Variable group ['land_binary_mask']\n",
      "14:53:38 DEBUG   opendrift.models.basemodel:1223: ----------------------------------------\n",
      "14:53:38 DEBUG   opendrift.models.basemodel:1228: Calling reader global_landmask\n",
      "14:53:38 DEBUG   opendrift.models.basemodel:1229: ----------------------------------------\n",
      "14:53:38 DEBUG   opendrift.models.basemodel:1249: Data needed for 10 elements\n",
      "14:53:38 DEBUG   opendrift.readers.basereader.variables:689: Fetching variables from global_landmask\n",
      "14:53:38 DEBUG   opendrift.readers.basereader.continuous:37: Fetched env-before\n",
      "14:53:38 DEBUG   opendrift.readers.basereader.variables:570: Checking land_binary_mask for invalid values\n",
      "14:53:38 DEBUG   opendrift.readers.basereader.variables:725: Reader projection is latlon - rotation of vectors is not needed.\n",
      "14:53:38 DEBUG   opendrift.models.basemodel:1372: Obtained data for all elements.\n",
      "14:53:38 DEBUG   opendrift.models.basemodel:1385: ---------------------------------------\n",
      "14:53:38 DEBUG   opendrift.models.basemodel:1386: Finished processing all variable groups\n",
      "14:53:38 DEBUG   opendrift.models.basemodel:1510: ------------ SUMMARY -------------\n",
      "14:53:38 DEBUG   opendrift.models.basemodel:1512:     land_binary_mask: 0 (min) 0 (max)\n",
      "14:53:38 DEBUG   opendrift.models.basemodel:1514: ---------------------------------\n",
      "14:53:38 DEBUG   opendrift.models.basemodel:1515: \t\t10 active elements\n",
      "14:53:38 DEBUG   opendrift.models.basemodel:1526: \t\t59.97540523369704 <- latitude  -> 60.00052536428084\n",
      "14:53:38 DEBUG   opendrift.models.basemodel:1531: \t\t4.490603969397569 <- longitude -> 4.5417545595144855\n",
      "14:53:38 DEBUG   opendrift.models.basemodel:1534: \t\tz = 0.0\n",
      "14:53:38 DEBUG   opendrift.models.basemodel:1537: ---------------------------------\n",
      "14:53:38 DEBUG   opendrift.models.basemodel:804: No elements hit coastline.\n",
      "14:53:38 DEBUG   opendrift.models.basemodel:2454: No elements to deactivate\n"
     ]
    }
   ],
   "source": [
    "# Hover over run to see documentation\n",
    "o.run(time_step=3600, steps=1)"
   ]
  },
  {
   "cell_type": "code",
   "execution_count": 12,
   "metadata": {},
   "outputs": [
    {
     "name": "stderr",
     "output_type": "stream",
     "text": [
      "14:53:38 DEBUG   opendrift.models.basemodel:3168: Setting up map: corners=None, fast=False, lscale=None\n",
      "14:53:38 DEBUG   opendrift.readers.reader_global_landmask:83: Adding GSHHG shapes from cartopy, scale: f, extent: (4.082484340667724, 4.941754722595214, 59.77540664672852, 60.21340866088866)..\n",
      "14:54:08 DEBUG   opendrift.readers.reader_global_landmask:83: Adding GSHHG shapes from cartopy, scale: f, extent: (4.082484340667724, 4.941754722595214, 59.77540664672852, 60.21340866088866)..\n",
      "14:54:09 DEBUG   opendrift.readers.reader_global_landmask:83: Adding GSHHG shapes from cartopy, scale: f, extent: (4.082484340667724, 4.941754722595214, 59.77540664672852, 60.21340866088866)..\n"
     ]
    },
    {
     "data": {
      "image/png": "[encoded data removed]",
      "text/plain": [
       "<Figure size 1079.17x1100 with 1 Axes>"
      ]
     },
     "metadata": {},
     "output_type": "display_data"
    },
    {
     "data": {
      "text/plain": [
       "(<GeoAxes: title={'center': 'OpenDrift - GhostNetDrift\\n2017-02-20 00:00 to 2017-02-20 01:00 UTC (2 steps)'}>,\n",
       " <Figure size 1079.17x1100 with 1 Axes>)"
      ]
     },
     "execution_count": 12,
     "metadata": {},
     "output_type": "execute_result"
    }
   ],
   "source": [
    "o.plot()"
   ]
  },
  {
   "cell_type": "code",
   "execution_count": null,
   "metadata": {},
   "outputs": [],
   "source": []
  },
  {
   "attachments": {},
   "cell_type": "markdown",
   "metadata": {},
   "source": [
    "### Testing SINTEF data (not relevant ATM)"
   ]
  },
  {
   "cell_type": "code",
   "execution_count": null,
   "metadata": {},
   "outputs": [
    {
     "ename": "",
     "evalue": "",
     "output_type": "error",
     "traceback": [
      "\u001b[1;31mRunning cells with 'opendrift' requires the ipykernel package.\n",
      "\u001b[1;31mRun the following command to install 'ipykernel' into the Python environment. \n",
      "\u001b[1;31mCommand: 'conda install -n opendrift ipykernel --update-deps --force-reinstall'"
     ]
    }
   ],
   "source": [
    "# Change name of time variable\n",
    "import os\n",
    "for file in [f'./data/aver-monthly{bool(i)*f\"-{i}\"}' for i in range(6)]:\n",
    "    os.system(f'ncrename -v time,time_var {file}.nc {file}-xr.nc')"
   ]
  },
  {
   "cell_type": "code",
   "execution_count": null,
   "metadata": {},
   "outputs": [
    {
     "ename": "",
     "evalue": "",
     "output_type": "error",
     "traceback": [
      "\u001b[1;31mRunning cells with 'opendrift' requires the ipykernel package.\n",
      "\u001b[1;31mRun the following command to install 'ipykernel' into the Python environment. \n",
      "\u001b[1;31mCommand: 'conda install -n opendrift ipykernel --update-deps --force-reinstall'"
     ]
    }
   ],
   "source": [
    "norkyst = reader_netCDF_CF_generic.Reader(\n",
    "    [f'./data/aver-monthly{bool(i)*f\"-{i}\"}-xr.nc' for i in range(6)]\n",
    ")"
   ]
  },
  {
   "cell_type": "code",
   "execution_count": null,
   "metadata": {},
   "outputs": [
    {
     "ename": "",
     "evalue": "",
     "output_type": "error",
     "traceback": [
      "\u001b[1;31mRunning cells with 'opendrift' requires the ipykernel package.\n",
      "\u001b[1;31mRun the following command to install 'ipykernel' into the Python environment. \n",
      "\u001b[1;31mCommand: 'conda install -n opendrift ipykernel --update-deps --force-reinstall'"
     ]
    }
   ],
   "source": [
    "print(reader_netCDF_CF_generic.Reader('./data/aver-monthly-xr.nc'))"
   ]
  },
  {
   "cell_type": "code",
   "execution_count": null,
   "metadata": {},
   "outputs": [
    {
     "ename": "",
     "evalue": "",
     "output_type": "error",
     "traceback": [
      "\u001b[1;31mRunning cells with 'opendrift' requires the ipykernel package.\n",
      "\u001b[1;31mRun the following command to install 'ipykernel' into the Python environment. \n",
      "\u001b[1;31mCommand: 'conda install -n opendrift ipykernel --update-deps --force-reinstall'"
     ]
    }
   ],
   "source": [
    "print(reader_netCDF_CF_generic.Reader('./data/aver-monthly-1-xr.nc'))"
   ]
  },
  {
   "cell_type": "code",
   "execution_count": null,
   "metadata": {},
   "outputs": [
    {
     "ename": "",
     "evalue": "",
     "output_type": "error",
     "traceback": [
      "\u001b[1;31mRunning cells with 'opendrift' requires the ipykernel package.\n",
      "\u001b[1;31mRun the following command to install 'ipykernel' into the Python environment. \n",
      "\u001b[1;31mCommand: 'conda install -n opendrift ipykernel --update-deps --force-reinstall'"
     ]
    }
   ],
   "source": [
    "norkyst = reader_netCDF_CF_generic.Reader(\n",
    "    './data/aver-monthly-xr.nc', standard_name_mapping={'time_var': 'time'}\n",
    ")"
   ]
  },
  {
   "cell_type": "code",
   "execution_count": null,
   "metadata": {},
   "outputs": [
    {
     "ename": "",
     "evalue": "",
     "output_type": "error",
     "traceback": [
      "\u001b[1;31mRunning cells with 'opendrift' requires the ipykernel package.\n",
      "\u001b[1;31mRun the following command to install 'ipykernel' into the Python environment. \n",
      "\u001b[1;31mCommand: 'conda install -n opendrift ipykernel --update-deps --force-reinstall'"
     ]
    }
   ],
   "source": [
    "reader_norkyst.variable_mapping"
   ]
  },
  {
   "cell_type": "code",
   "execution_count": null,
   "metadata": {},
   "outputs": [
    {
     "ename": "",
     "evalue": "",
     "output_type": "error",
     "traceback": [
      "\u001b[1;31mRunning cells with 'opendrift' requires the ipykernel package.\n",
      "\u001b[1;31mRun the following command to install 'ipykernel' into the Python environment. \n",
      "\u001b[1;31mCommand: 'conda install -n opendrift ipykernel --update-deps --force-reinstall'"
     ]
    }
   ],
   "source": [
    "from netCDF4 import Dataset\n",
    "\n",
    "ds = Dataset('./data/aver-monthly.nc')\n",
    "\n",
    "type(ds.dimensions.values())\n",
    "\n",
    "dims = ds.dimensions.values()\n",
    "time = dims.mapping['time']"
   ]
  },
  {
   "cell_type": "code",
   "execution_count": null,
   "metadata": {},
   "outputs": [
    {
     "ename": "",
     "evalue": "",
     "output_type": "error",
     "traceback": [
      "\u001b[1;31mRunning cells with 'opendrift' requires the ipykernel package.\n",
      "\u001b[1;31mRun the following command to install 'ipykernel' into the Python environment. \n",
      "\u001b[1;31mCommand: 'conda install -n opendrift ipykernel --update-deps --force-reinstall'"
     ]
    }
   ],
   "source": [
    "time"
   ]
  },
  {
   "cell_type": "code",
   "execution_count": null,
   "metadata": {},
   "outputs": [
    {
     "ename": "",
     "evalue": "",
     "output_type": "error",
     "traceback": [
      "\u001b[1;31mRunning cells with 'opendrift' requires the ipykernel package.\n",
      "\u001b[1;31mRun the following command to install 'ipykernel' into the Python environment. \n",
      "\u001b[1;31mCommand: 'conda install -n opendrift ipykernel --update-deps --force-reinstall'"
     ]
    }
   ],
   "source": [
    "ds['time']"
   ]
  },
  {
   "cell_type": "code",
   "execution_count": null,
   "metadata": {},
   "outputs": [
    {
     "ename": "",
     "evalue": "",
     "output_type": "error",
     "traceback": [
      "\u001b[1;31mRunning cells with 'opendrift' requires the ipykernel package.\n",
      "\u001b[1;31mRun the following command to install 'ipykernel' into the Python environment. \n",
      "\u001b[1;31mCommand: 'conda install -n opendrift ipykernel --update-deps --force-reinstall'"
     ]
    }
   ],
   "source": [
    "vars = ds.variables.values()\n",
    "vars"
   ]
  },
  {
   "cell_type": "code",
   "execution_count": null,
   "metadata": {},
   "outputs": [
    {
     "ename": "",
     "evalue": "",
     "output_type": "error",
     "traceback": [
      "\u001b[1;31mRunning cells with 'opendrift' requires the ipykernel package.\n",
      "\u001b[1;31mRun the following command to install 'ipykernel' into the Python environment. \n",
      "\u001b[1;31mCommand: 'conda install -n opendrift ipykernel --update-deps --force-reinstall'"
     ]
    }
   ],
   "source": [
    "reader_norkyst = reader_netCDF_CF_generic.Reader(\n",
    "    'https://thredds.met.no/thredds/dodsC/sea/norkyst800m/1h/aggregate_be'\n",
    ")\n",
    "print(reader_norkyst)"
   ]
  },
  {
   "cell_type": "code",
   "execution_count": null,
   "metadata": {},
   "outputs": [
    {
     "ename": "",
     "evalue": "",
     "output_type": "error",
     "traceback": [
      "\u001b[1;31mRunning cells with 'opendrift' requires the ipykernel package.\n",
      "\u001b[1;31mRun the following command to install 'ipykernel' into the Python environment. \n",
      "\u001b[1;31mCommand: 'conda install -n opendrift ipykernel --update-deps --force-reinstall'"
     ]
    }
   ],
   "source": [
    "reader_norkyst.variables"
   ]
  },
  {
   "cell_type": "code",
   "execution_count": null,
   "metadata": {},
   "outputs": [
    {
     "ename": "",
     "evalue": "",
     "output_type": "error",
     "traceback": [
      "\u001b[1;31mRunning cells with 'opendrift' requires the ipykernel package.\n",
      "\u001b[1;31mRun the following command to install 'ipykernel' into the Python environment. \n",
      "\u001b[1;31mCommand: 'conda install -n opendrift ipykernel --update-deps --force-reinstall'"
     ]
    }
   ],
   "source": [
    "from datetime import datetime, timedelta\n",
    "from opendrift.models.shipdrift import ShipDrift\n",
    "\n",
    "o = ShipDrift()\n",
    "o.add_readers_from_list(\n",
    "    ['https://thredds.met.no/thredds/dodsC/sea/norkyst800m/1h/aggregate_be']\n",
    ")\n",
    "#o.disable_vertical_motion()\n",
    "o.seed_elements(lon=4.85, lat=60, time=datetime.now(), number=10000, radius=1000)\n",
    "\n",
    "o.run(duration=timedelta(hours=72))\n",
    "o.animation(filename='animation.mp4')"
   ]
  },
  {
   "cell_type": "code",
   "execution_count": null,
   "metadata": {},
   "outputs": [
    {
     "ename": "",
     "evalue": "",
     "output_type": "error",
     "traceback": [
      "\u001b[1;31mRunning cells with 'opendrift' requires the ipykernel package.\n",
      "\u001b[1;31mRun the following command to install 'ipykernel' into the Python environment. \n",
      "\u001b[1;31mCommand: 'conda install -n opendrift ipykernel --update-deps --force-reinstall'"
     ]
    }
   ],
   "source": []
  }
 ],
 "metadata": {
  "kernelspec": {
   "display_name": "EIT",
   "language": "python",
   "name": "python3"
  },
  "language_info": {
   "codemirror_mode": {
    "name": "ipython",
    "version": 3
   },
   "file_extension": ".py",
   "mimetype": "text/x-python",
   "name": "python",
   "nbconvert_exporter": "python",
   "pygments_lexer": "ipython3",
   "version": "3.11.3"
  },
  "orig_nbformat": 4,
  "vscode": {
   "interpreter": {
    "hash": "2ddbd66784b8b2c51d6f58c7166b994a6e6c1c8aab8d9b32b8866a8bcb3fbe00"
   }
  }
 },
 "nbformat": 4,
 "nbformat_minor": 2
}
