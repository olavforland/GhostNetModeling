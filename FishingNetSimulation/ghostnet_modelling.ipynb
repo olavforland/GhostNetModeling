{
 "cells": [
  {
   "cell_type": "code",
   "execution_count": null,
   "metadata": {},
   "outputs": [],
   "source": [
    "# Imports\n",
    "\n",
    "import numpy as np\n",
    "import logging; logger = logging.getLogger(__name__)\n",
    "\n",
    "\n",
    "from opendrift.models.oceandrift import OceanDrift, Lagrangian3DArray\n",
    "from opendrift.models.leeway import Leeway # For Search and Rescure. May not be relevant\n",
    "from opendrift.models.plastdrift import PlastDrift\n",
    "from opendrift.models.sedimentdrift import SedimentDrift # Looks most promising\n",
    "from opendrift.models.radionuclides import Radionuclide\n",
    "\n",
    "from opendrift.readers import reader_netCDF_CF_generic\n",
    "\n",
    "from pprint import pprint\n",
    "from opendrift.readers import reader_global_landmask\n",
    "\n",
    "from datetime import datetime\n",
    "\n",
    "from opendrift.models.basemodel import OpenDriftSimulation\n",
    "from opendrift.elements import LagrangianArray\n"
   ]
  },
  {
   "attachments": {},
   "cell_type": "markdown",
   "metadata": {},
   "source": [
    "### Define the model\n",
    "\n",
    "Here, we define the class *GhostNetElement*, which is supposed to represent a single ghost net in the ocean. Then, the class *GhostNetDrift* handles the simulation. <br>\n",
    "\n",
    "As of now, I simply copied the code from `opendrift.models.sedimentdrift.SedimentDrift`. We should also check out `opendrift.models.radionnuclides.Radionnuclide` as it also incorporates diameter, density, etc. Then, the RadionNuclideDrift shows how these properties can be handled in the simulation. <br>\n",
    "\n",
    "The most important parts here are the `variables` field in GhostNetElement, the `required_variables` field in GhostNetDrift and the `update()` function in GhostNetDrift."
   ]
  },
  {
   "cell_type": "code",
   "execution_count": null,
   "metadata": {},
   "outputs": [],
   "source": [
    "class GhostNetElement(Lagrangian3DArray):\n",
    "    variables = Lagrangian3DArray.add_variables([\n",
    "        ('settled', {'dtype': np.uint8,  # 0 is active, 1 is settled\n",
    "                     'units': '1',\n",
    "                     'default': 0}),\n",
    "        ('terminal_velocity', {'dtype': np.float32,\n",
    "                               'units': 'm/s',\n",
    "                               'default': -0.001})  # 1 mm/s negative buoyancy\n",
    "        ])\n",
    "\n",
    "# Differences between RadionNuclide and Sediment:\n",
    "# diameter in radionuclide: BUT only needed to update terminal velocity (don't include)\n",
    "# density: -------||---------\n",
    "\n",
    "\n",
    "class GhostNetDrift(OceanDrift):\n",
    "    \"\"\"Model for sediment drift, under development\n",
    "    \"\"\"\n",
    "\n",
    "    ElementType = GhostNetElement\n",
    "\n",
    "    required_variables = {\n",
    "        'x_sea_water_velocity': {'fallback': 0},\n",
    "        'y_sea_water_velocity': {'fallback': 0},\n",
    "        'upward_sea_water_velocity': {'fallback': 0},\n",
    "        'x_wind': {'fallback': 0},\n",
    "        'y_wind': {'fallback': 0},\n",
    "        'sea_surface_wave_stokes_drift_x_velocity': {'fallback': 0},\n",
    "        'sea_surface_wave_stokes_drift_y_velocity': {'fallback': 0},\n",
    "        'sea_surface_wave_period_at_variance_spectral_density_maximum': {'fallback': 0},\n",
    "        'sea_surface_wave_mean_period_from_variance_spectral_density_second_frequency_moment': {'fallback': 0},\n",
    "        'land_binary_mask': {'fallback': None},\n",
    "        'ocean_vertical_diffusivity': {'fallback': 0.02},\n",
    "        'ocean_mixed_layer_thickness': {'fallback': 50},\n",
    "        'sea_floor_depth_below_sea_level': {'fallback': 0},\n",
    "        }\n",
    "\n",
    "    def __init__(self, *args, **kwargs):\n",
    "        \"\"\" Constructor of SedimentDrift module\n",
    "        \"\"\"\n",
    "\n",
    "        super(GhostNetDrift, self).__init__(*args, **kwargs)\n",
    "\n",
    "        # By default, sediments do not strand towards coastline\n",
    "        # TODO: A more sophisticated stranding algorithm is needed\n",
    "        self._set_config_default('general:coastline_action', 'previous')\n",
    "\n",
    "        # Vertical mixing is enabled as default\n",
    "        self._set_config_default('drift:vertical_mixing', True)\n",
    "\n",
    "        # To allow stranding particles\n",
    "        self._set_config_default('general:coastline_action', 'stranding')\n",
    "\n",
    "    def update(self):\n",
    "        \"\"\"Update positions and properties of sediment particles.\n",
    "        \"\"\"\n",
    "\n",
    "        # Advecting here all elements, but want to soon add\n",
    "        # possibility of not moving settled elements, until\n",
    "        # they are resuspended. May then need to send a boolean\n",
    "        # array to advection methods below\n",
    "        self.advect_ocean_current()\n",
    "\n",
    "        self.vertical_advection()\n",
    "\n",
    "        self.advect_wind()  # Wind shear in upper 10cm of ocean\n",
    "\n",
    "        self.stokes_drift()\n",
    "\n",
    "        #self.vertical_mixing()  # Including buoyancy and settling\n",
    "\n",
    "        self.resuspension()\n",
    "\n",
    "    def bottom_interaction(self, seafloor_depth):\n",
    "        \"\"\"Sub method of vertical_mixing, determines settling\"\"\"\n",
    "        # Elements at or below seafloor are settled, by setting\n",
    "        # self.elements.moving to 0.\n",
    "        # These elements will not move until eventual later resuspension.\n",
    "        settling = np.logical_and(self.elements.z <= seafloor_depth, self.elements.moving==1)\n",
    "        if np.sum(settling) > 0:\n",
    "            logger.debug('Settling %s elements at seafloor' % np.sum(settling))\n",
    "            self.elements.moving[settling] = 0\n",
    "\n",
    "    def resuspension(self):\n",
    "        \"\"\"Resuspending elements if current speed > .5 m/s\"\"\"\n",
    "        resuspending = np.logical_and(self.current_speed()>.5, self.elements.moving==0)\n",
    "        if np.sum(resuspending) > 0:\n",
    "            # Allow moving again\n",
    "            self.elements.moving[resuspending] = 1\n",
    "            # Suspend 1 cm above seafloor\n",
    "            self.elements.z[resuspending] = self.elements.z[resuspending] + .01\n"
   ]
  },
  {
   "cell_type": "code",
   "execution_count": null,
   "metadata": {},
   "outputs": [],
   "source": [
    "o = GhostNetDrift(loglevel=0)\n",
    "\n",
    "# Want to try different models:\n",
    "# Plastic\n",
    "#o = PlastDrift()"
   ]
  },
  {
   "cell_type": "code",
   "execution_count": null,
   "metadata": {},
   "outputs": [],
   "source": [
    "pprint(o.required_variables)"
   ]
  },
  {
   "attachments": {},
   "cell_type": "markdown",
   "metadata": {},
   "source": [
    "### Add Readers. There are two readers of interest: \n",
    "- Generic reader that retrieves ocean data for simulating currents\n",
    "- Landmask reader for land data (where ocean meets land). This file is simply 3D tensor (matrix) containing 1 where there is land and 0 where there is ocean <br>"
   ]
  },
  {
   "attachments": {},
   "cell_type": "markdown",
   "metadata": {},
   "source": [
    "Each reader needs a filename, that is either a local file or URL. Here I use the URL provided [here](https://opendrift.github.io/tutorial.html#import-a-specific-model-for-the-relevant-application) <br>\n",
    "\n",
    "**They are accessed in the following manner:**"
   ]
  },
  {
   "cell_type": "code",
   "execution_count": null,
   "metadata": {},
   "outputs": [],
   "source": [
    "# Generic reader\n",
    "reader_norkyst = reader_netCDF_CF_generic.Reader(\n",
    "    filename='https://thredds.met.no/thredds/dodsC/sea/norkyst800m/1h/aggregate_be'\n",
    ")\n",
    "\n",
    "# Landmask reader. \n",
    "reader_landmask = reader_global_landmask.Reader()"
   ]
  },
  {
   "cell_type": "code",
   "execution_count": null,
   "metadata": {},
   "outputs": [],
   "source": [
    "o.add_reader([reader_landmask, reader_norkyst])"
   ]
  },
  {
   "attachments": {},
   "cell_type": "markdown",
   "metadata": {},
   "source": [
    "### Getting number and position of particles\n",
    "Using data for fishing activity over the timespan 2021-2022 to estimate the placement and number of particles released. Count any activity over half an hour, then release another particle for every 10 hours of activity. Can change this number."
   ]
  },
  {
   "cell_type": "code",
   "execution_count": null,
   "metadata": {},
   "outputs": [],
   "source": [
    "# Want to get the position of the particles from GlobalFishingWatch\n",
    "import pandas as pd\n",
    "fishing_activity_21_22 = pd.read_csv(\"Fishing_activity_2021-2022.csv\", delimiter=';', header=0,usecols=[0,1,3,4], low_memory=False)\n",
    "fa_gill_nets = fishing_activity_21_22[fishing_activity_21_22['geartype'] == 'set_gillnets']\n",
    "# Filter out fishing activity under 0.5 hours:\n",
    "fa_gill_nets = fa_gill_nets[fa_gill_nets['Apparent Fishing hours'] > 0.5]\n",
    "fa_gill_nets['num_particles'] = fa_gill_nets['Apparent Fishing hours']//10+1"
   ]
  },
  {
   "cell_type": "code",
   "execution_count": null,
   "metadata": {},
   "outputs": [],
   "source": [
    "# Only southern Norway (South of Namsos)\n",
    "fa_gill_nets_south = fa_gill_nets[fa_gill_nets[\"Lat\"]<64]\n",
    "print(sum(fa_gill_nets_south[\"num_particles\"]))\n",
    "print(sum(fa_gill_nets[\"num_particles\"]))"
   ]
  },
  {
   "cell_type": "code",
   "execution_count": null,
   "metadata": {},
   "outputs": [],
   "source": [
    "#parts_lists = np.ones(fa_gill_nets_south['num_particles'])\n",
    "lats = fa_gill_nets_south['Lat']#*np.ones(fa_gill_nets_south['num_particles'])\n",
    "lats = np.array(lats)\n",
    "lons = fa_gill_nets_south['Lon']#*np.ones(fa_gill_nets_south['num_particles'])\n",
    "lons = np.array(lons)\n",
    "num_parts = fa_gill_nets_south['num_particles']\n",
    "num_parts = np.array(num_parts)\n",
    "print(lats)\n",
    "print(num_parts)\n",
    "\n",
    "lats_total = []\n",
    "lons_total = []\n",
    "for i in range(len(num_parts)):\n",
    "    for j in range(int(num_parts[i])):\n",
    "        lats_total.append(lats[i])\n",
    "        lons_total.append(lons[i])\n",
    "lats_total = np.array(lats_total)\n",
    "lons_total = np.array(lons_total)\n"
   ]
  },
  {
   "attachments": {},
   "cell_type": "markdown",
   "metadata": {},
   "source": [
    "lats_total and lons_total are the coordinates of the particles being released. Where multiple particles should be placed in the same spot, there are multiples of the same latitude and longitude."
   ]
  },
  {
   "cell_type": "code",
   "execution_count": null,
   "metadata": {},
   "outputs": [],
   "source": []
  },
  {
   "attachments": {},
   "cell_type": "markdown",
   "metadata": {},
   "source": [
    "### Seeding elements\n",
    "To seed an element simply means releasing it into the ocean (for simulation). <br>\n",
    "\n",
    "**Important:**\n",
    "- If `lon` and `lat` are given as arrays of two elements, the GhostNet is dropped randomly at the line between them. Here, the radius can incorporate the uncertainty of the line's width. \n",
    "- If `time` is given as an array, then the GhostNet is dropped randomly in the timeinterval. "
   ]
  },
  {
   "cell_type": "code",
   "execution_count": null,
   "metadata": {},
   "outputs": [],
   "source": [
    "# These are the standard arguments. \n",
    "# number GhostNet is dropped at longitude 4.3, lattitude 60 within a radius of 1000 meters. \n",
    "#o.seed_elements(lon=4.5, lat=60, radius=1000, number=10, time=reader_norkyst.start_time)\n",
    "\n",
    "# Try to seed with the actual particles\n",
    "o.seed_elements(lon=lons_total[0:], lat=lats_total[0:], time=reader_norkyst.start_time)"
   ]
  },
  {
   "cell_type": "code",
   "execution_count": null,
   "metadata": {},
   "outputs": [],
   "source": [
    "# Inspect properties of the GhostNet dropped\n",
    "o.elements_scheduled"
   ]
  },
  {
   "attachments": {},
   "cell_type": "markdown",
   "metadata": {},
   "source": [
    "### Configurating the simulation\n",
    "\n",
    "We can also provide custom configurations to the simulation, that may suit GhostNets better."
   ]
  },
  {
   "cell_type": "code",
   "execution_count": null,
   "metadata": {},
   "outputs": [],
   "source": [
    "# Parameters available to configurate:\n",
    "o.list_configspec()"
   ]
  },
  {
   "attachments": {},
   "cell_type": "markdown",
   "metadata": {},
   "source": [
    "### Running the model"
   ]
  },
  {
   "cell_type": "code",
   "execution_count": null,
   "metadata": {},
   "outputs": [],
   "source": [
    "# Variables the simulation needs\n",
    "o.required_variables"
   ]
  },
  {
   "cell_type": "code",
   "execution_count": null,
   "metadata": {},
   "outputs": [],
   "source": [
    "# Hover over run to see documentation\n",
    "#o.run(time_step=3600, steps=1)\n",
    "o.run(time_step=3600,steps=24*100,outfile='sim_100_days.nc')"
   ]
  },
  {
   "cell_type": "code",
   "execution_count": null,
   "metadata": {},
   "outputs": [],
   "source": [
    "o.plot()"
   ]
  },
  {
   "attachments": {},
   "cell_type": "markdown",
   "metadata": {},
   "source": [
    "Can save the simulation data to file on .nc format."
   ]
  },
  {
   "cell_type": "code",
   "execution_count": null,
   "metadata": {},
   "outputs": [],
   "source": [
    "# Importing data for simulation instead of running it again.\n",
    "\n",
    "o = GhostNetDrift(loglevel=0)\n",
    "o.io_import_file('stranded_100_steps.nc')"
   ]
  },
  {
   "cell_type": "code",
   "execution_count": null,
   "metadata": {},
   "outputs": [],
   "source": [
    "\n",
    "o.plot(show_initial=False)"
   ]
  },
  {
   "cell_type": "code",
   "execution_count": null,
   "metadata": {},
   "outputs": [],
   "source": [
    "# Using netCDF4\n",
    "\n",
    "import netCDF4 as nc\n",
    "import matplotlib.pyplot as plt\n",
    "import plotly.express as px\n",
    "\n",
    "\n",
    "fn = 'stranded_100_steps.nc'\n",
    "ds = nc.Dataset(fn)\n",
    "\n",
    "lons_read = ds.variables['lon'][:]\n",
    "lats_read = ds.variables['lat'][:]\n",
    "lons_array = np.array(lons_read)\n",
    "lats_array = np.array(lats_read)"
   ]
  },
  {
   "cell_type": "code",
   "execution_count": null,
   "metadata": {},
   "outputs": [],
   "source": [
    "fig = px.density_mapbox([lats_array,lons_array], lat='Lat', lon='Lon', z='Congregation of nets',mapbox_style='open-street-map')\n",
    "fig.update_layout(title = 'Congregation of nets', title_x=0.5)\n",
    "fig.show()"
   ]
  },
  {
   "cell_type": "code",
   "execution_count": null,
   "metadata": {},
   "outputs": [],
   "source": [
    "plt.figure()\n",
    "plt.imshow(lats_array,lons_array)\n",
    "#plt.plot([0,1,2,3],[1,2,3,4])\n",
    "plt.show()"
   ]
  },
  {
   "cell_type": "code",
   "execution_count": null,
   "metadata": {},
   "outputs": [],
   "source": []
  },
  {
   "attachments": {},
   "cell_type": "markdown",
   "metadata": {},
   "source": [
    "### Testing SINTEF data (not relevant ATM)"
   ]
  },
  {
   "cell_type": "code",
   "execution_count": null,
   "metadata": {},
   "outputs": [],
   "source": [
    "# Change name of time variable\n",
    "import os\n",
    "for file in [f'./data/aver-monthly{bool(i)*f\"-{i}\"}' for i in range(6)]:\n",
    "    os.system(f'ncrename -v time,time_var {file}.nc {file}-xr.nc')"
   ]
  },
  {
   "cell_type": "code",
   "execution_count": null,
   "metadata": {},
   "outputs": [],
   "source": [
    "norkyst = reader_netCDF_CF_generic.Reader(\n",
    "    [f'./data/aver-monthly{bool(i)*f\"-{i}\"}-xr.nc' for i in range(6)]\n",
    ")"
   ]
  },
  {
   "cell_type": "code",
   "execution_count": null,
   "metadata": {},
   "outputs": [],
   "source": [
    "print(reader_netCDF_CF_generic.Reader('./data/aver-monthly-xr.nc'))"
   ]
  },
  {
   "cell_type": "code",
   "execution_count": null,
   "metadata": {},
   "outputs": [],
   "source": [
    "print(reader_netCDF_CF_generic.Reader('./data/aver-monthly-1-xr.nc'))"
   ]
  },
  {
   "cell_type": "code",
   "execution_count": null,
   "metadata": {},
   "outputs": [],
   "source": [
    "norkyst = reader_netCDF_CF_generic.Reader(\n",
    "    './data/aver-monthly-xr.nc', standard_name_mapping={'time_var': 'time'}\n",
    ")"
   ]
  },
  {
   "cell_type": "code",
   "execution_count": null,
   "metadata": {},
   "outputs": [],
   "source": [
    "reader_norkyst.variable_mapping"
   ]
  },
  {
   "cell_type": "code",
   "execution_count": null,
   "metadata": {},
   "outputs": [],
   "source": [
    "from netCDF4 import Dataset\n",
    "\n",
    "ds = Dataset('./data/aver-monthly.nc')\n",
    "\n",
    "type(ds.dimensions.values())\n",
    "\n",
    "dims = ds.dimensions.values()\n",
    "time = dims.mapping['time']"
   ]
  },
  {
   "cell_type": "code",
   "execution_count": null,
   "metadata": {},
   "outputs": [],
   "source": [
    "time"
   ]
  },
  {
   "cell_type": "code",
   "execution_count": null,
   "metadata": {},
   "outputs": [],
   "source": [
    "ds['time']"
   ]
  },
  {
   "cell_type": "code",
   "execution_count": null,
   "metadata": {},
   "outputs": [],
   "source": [
    "vars = ds.variables.values()\n",
    "vars"
   ]
  },
  {
   "cell_type": "code",
   "execution_count": null,
   "metadata": {},
   "outputs": [],
   "source": [
    "reader_norkyst = reader_netCDF_CF_generic.Reader(\n",
    "    'https://thredds.met.no/thredds/dodsC/sea/norkyst800m/1h/aggregate_be'\n",
    ")\n",
    "print(reader_norkyst)"
   ]
  },
  {
   "cell_type": "code",
   "execution_count": null,
   "metadata": {},
   "outputs": [],
   "source": [
    "reader_norkyst.variables"
   ]
  },
  {
   "cell_type": "code",
   "execution_count": null,
   "metadata": {},
   "outputs": [],
   "source": [
    "from datetime import datetime, timedelta\n",
    "from opendrift.models.shipdrift import ShipDrift\n",
    "\n",
    "o = ShipDrift()\n",
    "o.add_readers_from_list(\n",
    "    ['https://thredds.met.no/thredds/dodsC/sea/norkyst800m/1h/aggregate_be']\n",
    ")\n",
    "#o.disable_vertical_motion()\n",
    "o.seed_elements(lon=4.85, lat=60, time=datetime.now(), number=10000, radius=1000)\n",
    "\n",
    "o.run(duration=timedelta(hours=72))\n",
    "o.animation(filename='animation.mp4')"
   ]
  },
  {
   "cell_type": "code",
   "execution_count": null,
   "metadata": {},
   "outputs": [],
   "source": []
  }
 ],
 "metadata": {
  "kernelspec": {
   "display_name": "opendrift",
   "language": "python",
   "name": "python3"
  },
  "language_info": {
   "codemirror_mode": {
    "name": "ipython",
    "version": 3
   },
   "file_extension": ".py",
   "mimetype": "text/x-python",
   "name": "python",
   "nbconvert_exporter": "python",
   "pygments_lexer": "ipython3",
   "version": "3.11.3"
  },
  "orig_nbformat": 4,
  "vscode": {
   "interpreter": {
    "hash": "199c10efaf4d2e66e42d9b0b805ff4f77409ca0e4d3fa4e2a39abc5669e4001c"
   }
  }
 },
 "nbformat": 4,
 "nbformat_minor": 2
}
