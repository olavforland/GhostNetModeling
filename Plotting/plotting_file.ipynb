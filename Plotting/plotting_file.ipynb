{
 "cells": [
  {
   "cell_type": "code",
   "execution_count": null,
   "metadata": {},
   "outputs": [],
   "source": [
    "import matplotlib.pyplot as plt\n",
    "import numpy as np\n",
    "import pandas as pd\n",
    "import plotly.express as px\n",
    "import plotly.graph_objects as go\n",
    "import netCDF4 as nc\n",
    "import json"
   ]
  },
  {
   "attachments": {},
   "cell_type": "markdown",
   "metadata": {},
   "source": [
    "## File used to plot the floating ghost net simulation\n",
    "Had to make another notebook to plot to get the right packages on the nuc (using another environment)."
   ]
  },
  {
   "cell_type": "code",
   "execution_count": null,
   "metadata": {},
   "outputs": [],
   "source": [
    "fishing_activity_21_22 = pd.read_csv(\"Fishing_activity_2021-2022.csv\", delimiter=';', header=0,usecols=[0,1,3,4], low_memory=False)\n",
    "#fig = px.density_mapbox(fishing_activity_21_22[fishing_activity_21_22['geartype'] == 'set_gillnets'], lat='Lat', lon='Lon', z='Apparent Fishing hours',mapbox_style='open-street-map')\n",
    "#fig.update_layout(title = 'Set Gillnets', title_x=0.5)\n",
    "#fig.show()\n"
   ]
  },
  {
   "cell_type": "code",
   "execution_count": null,
   "metadata": {},
   "outputs": [],
   "source": [
    "fn = 'stranded_100_steps.nc'\n",
    "ds = nc.Dataset(fn)\n",
    "\n",
    "lons_read = ds.variables['lon'][:]\n",
    "lats_read = ds.variables['lat'][:]\n",
    "lons_array = np.array(lons_read)\n",
    "lats_array = np.array(lats_read)\n",
    "\n",
    "start_pos = pd.DataFrame(np.array([lats_array[:,0],lons_array[:,0]]).T, columns = ['Lat','Lon'])\n",
    "final_pos = pd.DataFrame(np.array([lats_array[:,-1],lons_array[:,-1]]).T, columns = ['Lat','Lon'])"
   ]
  },
  {
   "cell_type": "code",
   "execution_count": null,
   "metadata": {},
   "outputs": [],
   "source": []
  },
  {
   "cell_type": "code",
   "execution_count": null,
   "metadata": {},
   "outputs": [],
   "source": [
    "# Starting position for simulation\n",
    "fig = px.choropleth_mapbox(start_pos,mapbox_style='open-street-map')\n",
    "fig.update_layout(title = 'Congregation of nets', title_x=0.5)\n",
    "fig.show()"
   ]
  },
  {
   "cell_type": "code",
   "execution_count": null,
   "metadata": {},
   "outputs": [],
   "source": [
    "# Final position for simulation\n",
    "\n",
    "fig = px.scatter_mapbox(final_pos, lat='Lat', lon='Lon',mapbox_style='open-street-map')\n",
    "fig.update_layout(title = 'Congregation of nets', title_x=0.5)\n",
    "#fig.update_traces(cluster=dict(enabled=True,color=\"red\"))\n",
    "#fig.update_traces(cluster==True)\n",
    "fig.show()\n",
    "\n",
    "# Seems like I have lost the stranded elements??"
   ]
  },
  {
   "cell_type": "code",
   "execution_count": null,
   "metadata": {},
   "outputs": [],
   "source": [
    "np.shape([lats_array[:,-1],lons_array[:,-1]])"
   ]
  },
  {
   "cell_type": "code",
   "execution_count": null,
   "metadata": {},
   "outputs": [],
   "source": [
    "# want a dot density or spatial density map\n",
    "# Or the map with tiles that say how many points are in each tile"
   ]
  }
 ],
 "metadata": {
  "kernelspec": {
   "display_name": "Python 3",
   "language": "python",
   "name": "python3"
  },
  "language_info": {
   "codemirror_mode": {
    "name": "ipython",
    "version": 3
   },
   "file_extension": ".py",
   "mimetype": "text/x-python",
   "name": "python",
   "nbconvert_exporter": "python",
   "pygments_lexer": "ipython3",
   "version": "3.10.9"
  },
  "orig_nbformat": 4
 },
 "nbformat": 4,
 "nbformat_minor": 2
}
